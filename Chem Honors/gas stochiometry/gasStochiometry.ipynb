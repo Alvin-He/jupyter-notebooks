{
 "cells": [
  {
   "attachments": {},
   "cell_type": "markdown",
   "metadata": {},
   "source": [
    "# Gas Stoichiometry\n",
    "\n",
    "Alvin He \\\n",
    "01/30/2023 \\\n",
    "Chemistry Honors 1°"
   ]
  },
  {
   "attachments": {},
   "cell_type": "markdown",
   "metadata": {},
   "source": [
    "# Introduction\n",
    "\n",
    "**Problem: Determine the mass of $Mg$ the following equation:**\n",
    "$$ Mg_{(s)} + (excess) HCl_{(aq)} => H_{2 (g)} + MgCl_{2 (aq)}$$\n",
    "**based off experiment measurements related to $H_2$**\n",
    "\n",
    "We first use the measure height difference of liquid($H_2O$) inside and outside of the eudiometer tube. The $\\Delta$ height can be used to find the Pressure of the system when used along with the measured room pressure. The following equation is used to calculate:\n",
    "$$\\begin{align*}\n",
    "\\Delta P &= P_{atm} - P_{sys} \\\\\n",
    "P_{sys} &= P_{atm} - \\Delta P\n",
    "\\end{align*}$$\n",
    "\n",
    "The Pressure of the system is the combined pressure of $P_{H_2}$ and $P_{H_2O}$ or \n",
    "$$\\begin{align*}\n",
    "P_{sys} &= P_{H_2} + P_{H_2O} \\\\\n",
    "P_{H_2} &= P_{sys} - P_{H_2O} \n",
    "\\end{align*}$$\n",
    "The pressure of water at a specific temperature can be found in the reference sheet and by substituting in the values, we can find $P_{H_2}$ \n",
    "\n",
    "After the pressure of $P_{H_2}$ is found, we can use the ideal gas equation to solve for the # of moles of $H_2$ present: \n",
    "$$\\begin{align*}\n",
    "PV &= nRT \\\\\n",
    "n  &= \\frac{PV}{RT}\n",
    "\n",
    "\\end{align*}$$\n",
    "\n",
    "After we found # of moles of $H_2$, we can do normal stoichiometry: \n",
    "\n",
    "1. Balance chemical equation: $Mg + 2HCl => H_2 + MgCl_2$\n",
    "2. Solve for $n_{Mg}$ using mole ratio: $n\\ mol\\ H_2\\ *\\ \\frac{1\\ mol\\ Mg}{1\\ mol\\ H_2} = n\\ mol\\ Mg$\n",
    "3. Convert moles to grams: $n\\ mol\\ Mg\\ *\\ \\frac{24\\ g}{mol}$\n",
    "\n",
    "and we get the mass of Mg used. \n"
   ]
  },
  {
   "attachments": {},
   "cell_type": "markdown",
   "metadata": {},
   "source": [
    "# Experimental Methods\n",
    "\n",
    "1. Weight Mg on balance and record weight as reference\n",
    "2. Fill the bucket to just below the hole with water \n",
    "3. Pour acid($HCl$) into the eudiometer tube\n",
    "4. Fill the rest of the eudiometer tube with water\n",
    "5. Tie the Mg to the stopper and plug the stopper into the opening of the eudiometer tube\n",
    "6. Turn the eudiometer tub upside down into the bucket of water\n",
    "7. Wait for the acid to come in contact with Mg and wait for all reactions to finish\n",
    "8. Record the volume of gas that's now store in the top of the eudiometer tube\n",
    "9. Measure the height difference in the liquids inside of the eudiometer tube to the surface of the water in the bucket\n",
    "10. In addition, Measure the room temperature and room pressure and record \n",
    "11. Dispose all chemicals and finish experiment"
   ]
  },
  {
   "attachments": {},
   "cell_type": "markdown",
   "metadata": {},
   "source": [
    "# Data Analysis\n",
    "\n",
    "#### Data Table \n",
    "| Name | Data |\n",
    "|-------|------|\n",
    "| Mass of Mg  | 0.012g |\n",
    "| $H_2$ volume | 18.5 ml |\n",
    "| $\\Delta$ h of liquid in and out | 39 cm|\n",
    "| room pressure | 102 kpa |\n",
    "| room Temperature | 21.7 ℃ | \n",
    "\n",
    "#### Calculations\n",
    "\n",
    "Converting $\\Delta$ H to pressure: \n",
    "$$\\Delta P = 39cm\\ H_2O * \\frac{1 atm}{1033\\ cm\\ H_2O} = 0.0378\\ atm$$\n",
    "Find $P_{sys}$:\n",
    "$$\\begin{align*}\n",
    "P_{sys} &= P_{atm} - \\Delta P \\\\\n",
    "    &= 102\\ kpa - 0.0378\\ atm \\\\\n",
    "    &= 102\\ kpa * \\frac{1\\ atm}{101.325\\ kpa} - 0.0378\\ atm \\\\\n",
    "    &= 1.007\\ atm - 0.0378\\ atm \\\\\n",
    "    &= 0.9689\\ atm \n",
    "\\end{align*}$$\n",
    "Find $P_{H_2}$: (Water at 21.7 ℃ is about 19 torr)\n",
    "$$\\begin{align*}\n",
    "P_{sys} &= P_{H_2} + P_{H_2O} \\\\\n",
    "P_{H_2} &= P_{sys} - P_{H_2O} \\\\\n",
    "    &= 0.9689\\ atm - 19\\ torr * \\frac{1\\ atm}{760\\ torr} \\\\\n",
    "    &= 0.9439\\ atm\n",
    "\\end{align*}$$\n",
    "Find # of moles of H_2 using ideal gas equation: \n",
    "$$\\begin{align*}\n",
    "PV  &= nRT \\\\\n",
    "n_{H_2}&= \\frac{PV}{RT} \\\\\n",
    "    &= \\frac{0.9439\\ atm * 18.5\\ ml * \\frac{L}{1000\\ ml}}{\\frac{0.0821 L atm}{1\\ mol\\ K} * 294.7 K} \\\\\n",
    "    &= 7.217 * 10^{-4}\n",
    "\\end{align*}$$\n",
    "Normal Stoichiometry:\n",
    "1. Balance chemical equation: \n",
    "   $$Mg + 2HCl => H_2 + MgCl_2$$\n",
    "2. Solve for $n_{Mg}$ using mole ratio: \n",
    "   $$\\begin{align*}\n",
    "   n\\ mol\\ Mg &= n\\ mol\\ H_2\\ *\\ \\frac{1\\ mol\\ Mg}{1\\ mol\\ H_2} \\\\\n",
    "        &= 7.217 * 10^{-4}\\ mol\\ H_2\\ *\\ \\frac{1\\ mol\\ Mg}{1\\ mol\\ H_2} \\\\\n",
    "        &= 7.217 * 10^{-4}\\ mol\\ Mg\n",
    "   \\end{align*}$$\n",
    "3. Convert moles to grams: \n",
    "   $$\\begin{align*}\n",
    "    mass\\ of\\ Mg &= n\\ mol\\ Mg\\ *\\ \\frac{24\\ g}{mol} \\\\\n",
    "        &= 7.217 * 10^{-4}\\ mol\\ Mg\\ *\\ \\frac{24\\ g\\ Mg}{mol\\ Mg} \\\\\n",
    "        &= 0.01732\\ g\\ Mg\n",
    "   \\end{align*}$$\n",
    "\n",
    "#### % Error: \n",
    "$$\\frac{0.01732 - 0.012}{0.012} * 100 = 44\\%$$\n",
    "\n",
    "##### **Final Result: 0.01732g of Mg used**\n"
   ]
  },
  {
   "attachments": {},
   "cell_type": "markdown",
   "metadata": {},
   "source": [
    "# Discussion\n",
    "\n",
    "The results of the previous experiment had a high error rate is probably due to calculation drifts and the tiny scale of the mass of Mg also enlarged the error. The result is very close to the actual amount that was put in if you look at it numerically, there's only a 0.005 deviation from the measured result. However, due to the nature of the small numbers, the % error became very high. "
   ]
  },
  {
   "attachments": {},
   "cell_type": "markdown",
   "metadata": {},
   "source": [
    "#### Note: \n",
    "- To see more of the code/the ipynb file, please view github: https://github.com/Alvin-He/jupyter-notebooks/blob/main/Chem%20Honors/gas%20stochiometry/gasStochiometry.ipynb"
   ]
  }
 ],
 "metadata": {
  "kernelspec": {
   "display_name": "Python 3",
   "language": "python",
   "name": "python3"
  },
  "language_info": {
   "name": "python",
   "version": "3.10.0 (tags/v3.10.0:b494f59, Oct  4 2021, 19:00:18) [MSC v.1929 64 bit (AMD64)]"
  },
  "orig_nbformat": 4,
  "vscode": {
   "interpreter": {
    "hash": "3196968d684371006099b3d55edeef8ed90365227a30deaef86e5d4aa8519be0"
   }
  }
 },
 "nbformat": 4,
 "nbformat_minor": 2
}
