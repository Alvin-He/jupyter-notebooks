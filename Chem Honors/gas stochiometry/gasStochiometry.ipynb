{
 "cells": [
  {
   "attachments": {},
   "cell_type": "markdown",
   "metadata": {},
   "source": [
    "# Gas Stoichiometry\n",
    "\n",
    "Alvin He \\\n",
    "01/30/2023 \\\n",
    "Chemistry Honors 1°"
   ]
  },
  {
   "attachments": {},
   "cell_type": "markdown",
   "metadata": {},
   "source": [
    "# Introduction\n",
    "\n",
    "**Problem: Determine the mass of $Mg$ the following equation:**\n",
    "$$ Mg_{(s)} + (excess) HCl_{(aq)} => H_{2 (g)} + MgCl_{2 (aq)}$$\n",
    "**based off experiment measurements related to $H_2$**\n",
    "\n",
    "The basic outline to find the mass of $Mg$ that is used in this lab was to use the measured Pressure, Volume and Temperature of $H_2$ to find the # of moles of $H_2$; after finding the # of moles of $H_2$, we can use normal stoichiometry to solve for the mass of $Mg$\n",
    "\n",
    "The # of moles of $H_2$ can be determined using the equation $n = \\frac{PV}{RT}$\n",
    "\n",
    "The following variables are needed: Pressure of $H_2$, Volume of $H_2$ and the room temperature. \n",
    "\n",
    "Volume and temperature can be measure easily. However, we don't actually know the Pressure of $H_2$, we only have the room pressure and $\\Delta$ height of $H_2O(liquid)$ in and out. That means we also need \n"
   ]
  }
 ],
 "metadata": {
  "language_info": {
   "name": "python"
  },
  "orig_nbformat": 4
 },
 "nbformat": 4,
 "nbformat_minor": 2
}
