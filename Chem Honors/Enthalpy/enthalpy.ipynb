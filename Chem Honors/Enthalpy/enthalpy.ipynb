{
 "cells": [
  {
   "attachments": {},
   "cell_type": "markdown",
   "metadata": {},
   "source": [
    "# Specific Heat Of Metal\n",
    "\n",
    "Alvin He \\\n",
    "03/15/2023 \\\n",
    "Chemistry Honors 1° "
   ]
  },
  {
   "attachments": {},
   "cell_type": "markdown",
   "metadata": {},
   "source": [
    "### Data:\n",
    "\n",
    "|                                     | $NaOH$ | $NH_4NO_3$ |\n",
    "|---|--------|------------|\n",
    "|#g container + chemical | 19.87g | 18.08g |\n",
    "|#g container - chemical | 11.66g | 11.95g |\n",
    "|$T_{initial}$ | 22.3 C | 22.9 C|\n",
    "|$T_{final}$ | 38.3 C | 14.3 C|\n",
    "| $V_{H_2O}$ | 45ml | 45ml |\n",
    "\n",
    "#### $\\Delta H_f$ of $NO_{3(aq)} ^- $:\n",
    "Calculating the total heat released by the reaction of $NH_4NO_3$ with $H_2O$\n",
    "$$\\begin{align*} \n",
    "    \\Delta H &= -m_{H2_O}C_{H2_O}\\Delta T \\\\\n",
    "        &= -45ml\\ H_2O * \\frac{1g\\ H_2O}{1ml\\ H_2O} * \\frac{4.184\\ j}{g_{H_2O}-C} * (14.3C - 22.9C) \\\\\n",
    "        &= 1619.208 J \\\\\n",
    "        &= 1619.208 J * \\frac{1\\ kj}{1000\\ J} \\\\\n",
    "        &= 1.619 kj\n",
    "\\end{align*}$$\n",
    "Use the total heat energy created to calculate the formation of $NH_4NO_3$\n",
    "$$\\begin{align*} \n",
    "    \\Delta H_{f_{NH_4NO_3}} &= \\frac{\\Delta H_{rx}}{\\#g\\ of NH_4NO_3} * mole\\ ratio\\ of \\ NH_4NO_3 \\\\\n",
    "        &= \\frac{1.619\\ kj}{18.08g - 11.95} * \\frac{80g\\ NH_4NO_3}{mol\\ NH_4NO_3} \\\\\n",
    "        &= 21.12\\ kj / mol\n",
    "\\end{align*}$$\n",
    "Substitute $\\Delta H_f$ of $NH_4NO_3$ into the heat of formation equation to solve for $\\Delta H_f$ of $NO_{3(aq)} ^-$\n",
    "$$NH_{4}NO_{3\\ (s)} => NH_{4\\ (aq)} ^+ + NO_{3\\ (aq)} ^-  $$\n",
    "$$\\begin{align*} \n",
    "    \\Delta H &= \\sum{a\\ \\Delta H_f(products) - \\sum b\\ \\Delta H_f(reactants)} \\\\\n",
    "    \\frac{21.12 kj}{mol} &= (\\frac{-132.5 kj}{mol} + \\Delta H_{f(NO_{3(aq)} ^-)} ) - \\frac{-365.6 kj}{mol} \\\\\n",
    "    \\frac{21.12 kj}{mol} &= \\frac{233.1 kj}{mol} + \\Delta H_{f(NO_{3(aq)} ^-)} \\\\\n",
    "    \\Delta H_{f(NO_{3(aq)} ^-)} &= -211.97 kj\\ /\\ mol\n",
    "\\end{align*}$$\n",
    "\n",
    "**The specific heat of $NO_{3(aq)} ^-$ is $-211.97 kj\\ /\\ mol$**.   \n",
    "\n",
    "### % error (of ΔH to dissolve NaOH):\n",
    "\n",
    "#### Experimental: \n",
    "$$\\begin{align*} \n",
    "    \\Delta H &= -m_{H2_O}C_{H2_O}\\Delta T \\\\\n",
    "        &= -45ml\\ H_2O * \\frac{1g\\ H_2O}{1ml\\ H_2O} * \\frac{4.184\\ j}{g_{H_2O}-C} * (38.3C - 22.3C) \\\\\n",
    "        &= -3012.48 J \\\\\n",
    "        &= -3012.48 J * \\frac{1\\ kj}{1000\\ J} \\\\\n",
    "        &= -3.012 kj\n",
    "\\end{align*}$$\n",
    "$$\\begin{align*} \n",
    "    \\Delta H_{f_{NaOH}} &= \\frac{\\Delta H_{rx}}{\\#g\\ of NaOH} * mole\\ ratio\\ of \\ NaOH \\\\\n",
    "        &= \\frac{-3.012\\ kj}{19.87g - 11.68g} * \\frac{40g\\ NH_4NO_3}{mol\\ NH_4NO_3} \\\\\n",
    "        &= -14.71\\ kj / mol\n",
    "\\end{align*}$$\n",
    "\n",
    "\n",
    "#### Theoretical:\n",
    "$$NaOH_{(s)} => NaOH_{(aq)}$$\n",
    "$$\\begin{align*} \n",
    "    \\Delta H &= \\sum{a\\ \\Delta H_f(products) - \\sum b\\ \\Delta H_f(reactants)} \\\\\n",
    "        &= \\frac{-469.6\\ kj}{mol} - \\frac{-425.6\\ kj}{mol} \\\\\n",
    "        &= \\frac{-44 kj}{mol}\n",
    "\\end{align*}$$\n",
    "\n",
    "#### % Error: \n",
    "$$\\begin{align*}\n",
    "    \\% Error &= \\frac{experimental - theoretical}{theoretical} \\\\ \n",
    "        &= \\frac{-14.71\\ kj/mol - (-44\\ kj/mol)}{-44\\ kj/mol} \\\\\n",
    "        &= -65.56 \\%\n",
    "\\end{align*}$$"
   ]
  },
  {
   "attachments": {},
   "cell_type": "markdown",
   "metadata": {},
   "source": [
    "### Statistics  \n",
    "\n",
    "**2 tailed T-Test Results of Theoretical and Experimental Results: 0.1270**    \n",
    "\n",
    "The T-Test is preformed using the class data and result of the t-test is greater than 0.05, meaning that in normal experiments, there are no statically significant differences.  "
   ]
  },
  {
   "attachments": {},
   "cell_type": "markdown",
   "metadata": {},
   "source": [
    "### Discussion\n",
    "\n",
    "The particular high % error that was seem in this experiment is probably due to measurement errors that caused less heat to be recorded that generated. It might also be caused due to a large amount of heat escaping, there for leading to a high error percentage. "
   ]
  },
  {
   "attachments": {},
   "cell_type": "markdown",
   "metadata": {},
   "source": [
    "### NGSS Standards Met: \n",
    "\n",
    "1. Analyzing and Interpreting Data\n",
    "   - We analyzed the experimental results and compared them to expected results in order to determine if there's a big statical difference in the data. \n",
    "2. Using Mathematics and Computational Thinking\n",
    "   - We used models and equations to calculate heat of formation from the experimental data.   "
   ]
  },
  {
   "attachments": {},
   "cell_type": "markdown",
   "metadata": {},
   "source": [
    "#### Note: \n",
    "- To see more of the code/the ipynb file, please view github: https://github.com/Alvin-He/jupyter-notebooks/blob/main/Chem%20Honors/Enthalpy/enthalpy.ipynb"
   ]
  }
 ],
 "metadata": {
  "language_info": {
   "name": "python"
  },
  "orig_nbformat": 4
 },
 "nbformat": 4,
 "nbformat_minor": 2
}
