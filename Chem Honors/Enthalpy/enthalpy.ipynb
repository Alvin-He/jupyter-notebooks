{
 "cells": [
  {
   "attachments": {},
   "cell_type": "markdown",
   "metadata": {},
   "source": [
    "# Specific Heat Of Metal\n",
    "\n",
    "Alvin He \\\n",
    "03/15/2023 \\\n",
    "Chemistry Honors 1° "
   ]
  },
  {
   "attachments": {},
   "cell_type": "markdown",
   "metadata": {},
   "source": [
    "### Data:\n",
    "\n",
    "|  | $NaOH$ | $NH_4NO_3$ |\n",
    "|---|--------|------------|\n",
    "|#g container + chemical | 19.87g | 18.08g |\n",
    "|#g container - chemical | 11.66g | 11.95g |\n",
    "|$T_{initial}$ | 22.3 C | 22.9 C|\n",
    "|$T_{final}$ | 38.3 C | 14.3 C|\n",
    "| $V_{H_2O}$ | 45ml | 45ml |\n",
    "\n",
    "#### $\\Delta H_f$ of $NO_{3(aq)} ^- $:\n",
    "$$\\begin{align*}\n",
    "    \n",
    "\\end{align*}$$\n"
   ]
  }
 ],
 "metadata": {
  "language_info": {
   "name": "python"
  },
  "orig_nbformat": 4
 },
 "nbformat": 4,
 "nbformat_minor": 2
}
