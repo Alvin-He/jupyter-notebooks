{
 "cells": [
  {
   "attachments": {},
   "cell_type": "markdown",
   "metadata": {},
   "source": [
    "# Boyle's Law\n",
    "\n",
    "Alvin He \\\n",
    "01/24/2023 \\\n",
    "Chemistry Honors 1°"
   ]
  },
  {
   "attachments": {},
   "cell_type": "markdown",
   "metadata": {},
   "source": [
    "### Introduction & methods\n",
    "\n",
    "In order to find the volume of tubing and the number of moles of the gas, we can use Graphical analysis.\n",
    "\n",
    "Before we do that, we need to get the equation for the volume of tubing: \n",
    "\n",
    "The volume of the entire system is equal to volume of the system + volume of the syringe, or \n",
    "$$V_{system} = V_{syringe} + V_{tubing}$$\n",
    "\n",
    "Using the ideal gas law $PV = nRt$ and substituting the above relationship, we can get: \n",
    "$$\\begin{align*}\n",
    "P(V_{syringe} + V_{tubing}) &= nRt \\\\\n",
    "V_{syringe} + V_{tubing} &= nRt * \\frac{1}{P} \\\\\n",
    "V_{syringe} &= nRt * \\frac{1}{P} - V_{tubing}\\\\\n",
    "\\end{align*}$$\n",
    "\n",
    "The equation resembles a linear equation $y = mx + b$ where $x = \\frac{1}{P}$, $y = V_{syringe}$, $m = nRT$ and $b = -V_{tubing}$\n",
    "\n",
    "The variables that are needed from the lab are: Biometric Pressure, Volume of Syringe and temperature.  \n",
    "\n",
    "Using these experiment results, we can graph the x & y axis and the volume of tubing will be the y-intercept negated, and we can get the number of moles of the gas using the slope divided by the gas constant multiplied to the temperature, or $n = \\frac{m}{Rt}$ "
   ]
  },
  {
   "attachments": {},
   "cell_type": "markdown",
   "metadata": {},
   "source": [
    "### Results & Graphs\n",
    "\n",
    "Temperature: 20.1 \n",
    "\n",
    "| $V_{syringe}$ | $Pressure$ |\n",
    "| ------------- |----------- |\n",
    "| 15 ml | 20 kpa |"
   ]
  },
  {
   "cell_type": "code",
   "execution_count": null,
   "metadata": {},
   "outputs": [],
   "source": [
    "import matplotlib.pyplot \n",
    "\n"
   ]
  },
  {
   "attachments": {},
   "cell_type": "markdown",
   "metadata": {},
   "source": [
    "### Discussion\n",
    "\n",
    "\n",
    "### NGSS Standards Met\n"
   ]
  }
 ],
 "metadata": {
  "kernelspec": {
   "display_name": "Python 3",
   "language": "python",
   "name": "python3"
  },
  "language_info": {
   "name": "python",
   "version": "3.9.2 (default, Feb 28 2021, 17:03:44) \n[GCC 10.2.1 20210110]"
  },
  "orig_nbformat": 4,
  "vscode": {
   "interpreter": {
    "hash": "916dbcbb3f70747c44a77c7bcd40155683ae19c65e1c03b4aa3499c5328201f1"
   }
  }
 },
 "nbformat": 4,
 "nbformat_minor": 2
}
