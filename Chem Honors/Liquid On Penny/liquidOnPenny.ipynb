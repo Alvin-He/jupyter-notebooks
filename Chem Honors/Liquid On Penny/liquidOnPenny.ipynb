{
 "cells": [
  {
   "cell_type": "markdown",
   "metadata": {},
   "source": [
    "# Volume of liquids on a Penny\n",
    "\n",
    "Alvin He \\\n",
    "11/26/2022 \\\n",
    "Chemistry Honors 1°"
   ]
  },
  {
   "cell_type": "markdown",
   "metadata": {},
   "source": [
    "## Data Analysis: "
   ]
  },
  {
   "cell_type": "markdown",
   "metadata": {},
   "source": [
    "### Experiment Data\n",
    "\n",
    "| Type of liquid | # of drops until spillage | Total mass of liquid |\n",
    "|:--------------:|:-------------------------:|:--------------------:|\n",
    "| Water | 32 | 1.16 grams |\n",
    "| Isopropanol Alcohol | 13 | 0.19 grams|"
   ]
  },
  {
   "cell_type": "markdown",
   "metadata": {},
   "source": [
    "#### Determination of the volumes of various liquids\n",
    "\n",
    "In order to calculate the volume, we can use the density equation to calculate the equation for volume\n",
    "$$density = \\frac{mass}{volume}$$\n",
    "$$density * volume = mass$$\n",
    "$$volume = \\frac{mass}{density}$$ \n",
    "\n",
    "The density of water is about $1\\ g/ml$ (Water Density completed)   \n",
    "The density of Isopropanol Alcohol is about $0.785\\ g/ml$ (Isopropyl Alcohol Solvent Properties)    \n",
    "\n",
    "Using the above equation and density data, we can calculate the volume of these liquids on the penny    \n",
    "\n",
    "Water: \n",
    "$$\n",
    "\\begin{align*}\n",
    "volume &= \\frac{mass}{density} \\\\\n",
    "&= \\frac{1.16 g}{1 g/ml} \\\\ \n",
    "&= 1.16 g * \\frac{1 ml}{1 g} \\\\\n",
    "&= 1.16 ml \n",
    "\\end{align*}\n",
    "\\\\\n",
    "Volume\\ of\\ Water\\ on\\ a\\ Penny\\ =\\ 1.16 ml\n",
    "$$\n",
    "\n",
    "Isopropyl Alcohol:\n",
    "$$\n",
    "\\begin{align*} \n",
    "volume &= \\frac{mass}{density} \\\\\n",
    "&= \\frac{0.19 g}{0.785 g/ml} \\\\\n",
    "&= 0.19 g * \\frac{1 ml}{0.785 g} \\\\\n",
    "&= \\frac{0.19 ml}{0.785} \\\\\n",
    "&= 0.242 ml\n",
    "\\end{align*}\n",
    "\\\\\n",
    "Volume\\ of\\ Isopropyl\\ Alcohol\\ on\\ a\\ Penny\\ =\\ 0.242 ml\n",
    "$$"
   ]
  },
  {
   "cell_type": "markdown",
   "metadata": {},
   "source": [
    "## Discussion:"
   ]
  },
  {
   "cell_type": "markdown",
   "metadata": {},
   "source": [
    "### Statistics: \n",
    "\n",
    "In order to compare the volume of water and alcohol on a penny, We can use the 2-sampled t-test to compare the results. \n",
    "\n",
    "##### Class Data that's used: \n",
    "\n",
    "| Water(ml) | Isopropyl Alcohol (ml)|\n",
    "|:---------:|:---------------------:|\n",
    "|1.02|0.3|\n",
    "|1.13|0.305|\n",
    "|1.16|0.24|\n",
    "|2.57|0.41|\n",
    "|1.02|0.3|"
   ]
  },
  {
   "cell_type": "code",
   "execution_count": 1,
   "metadata": {},
   "outputs": [
    {
     "data": {
      "text/markdown": [
       "\n",
       "#### 2-Sampled t-test results:  \n",
       "**Summary**:  \n",
       "\n",
       "| Name | Sum | Average | Variance |\n",
       "| --- | --- | --- | --- |\n",
       "| Water | 6.9 | 1.38 | 0.43311 |\n",
       "| Isopropyl Alcohol | 1.555 | 0.311 | 0.17682 |\n",
       "\n",
       "P-Value: 0.007378882632653426  \n",
       "F-Value: 3.562027495944467  \n"
      ],
      "text/plain": [
       "<IPython.core.display.Markdown object>"
      ]
     },
     "execution_count": 1,
     "metadata": {},
     "output_type": "execute_result"
    }
   ],
   "source": [
    "from IPython.display import Markdown as md # used to display the results as markdown\n",
    "import numpy as np # data structures and helper functions \n",
    "import scipy.stats as scs # stats \n",
    "\n",
    "water_data = [[1.02],[1.13],[1.16],[2.57], [1.02]]\n",
    "alcohol_data = [[0.3], [0.305], [0.24], [0.41], [0.3]]\n",
    "\n",
    "fvalue, pvalue = scs.ttest_ind(water_data, alcohol_data)\n",
    "\n",
    "fvalue = float(fvalue)\n",
    "pvalue = float(pvalue)\n",
    "\n",
    "\n",
    "water_sum = np.round(np.sum(water_data), 3)\n",
    "alcohol_sum = np.round(np.sum(alcohol_data), 3)\n",
    "\n",
    "water_avg = float(np.round(np.average(water_data), 5))\n",
    "alcohol_avg = float(np.round(np.average(alcohol_data), 5))\n",
    "\n",
    "water_variance = float(np.round(scs.variation(water_data), 5))\n",
    "alcohol_variance = float(np.round(scs.variation(alcohol_data), 5))\n",
    "\n",
    "md('''\n",
    "#### 2-Sampled t-test results:  \n",
    "**Summary**:  \n",
    "\n",
    "| Name | Sum | Average | Variance |\n",
    "| --- | --- | --- | --- |\n",
    "| Water | %s | %s | %s |\n",
    "| Isopropyl Alcohol | %s | %s | %s |\n",
    "\n",
    "P-Value: %s  \n",
    "F-Value: %s  \n",
    "''' % (water_sum, water_avg, water_variance, alcohol_sum, alcohol_avg, alcohol_variance, pvalue, fvalue))\n"
   ]
  },
  {
   "cell_type": "markdown",
   "metadata": {},
   "source": [
    "The p-value is smaller than 0.05 suggesting that there's a difference in the averages of the data. If we compare the Average volume of water on a penny with the Average volume of of Isopropyl Alcohol on a penny, we can see that the average volume for water on a penny is significantly larger. The test has shown that a penny a hold relatively more water than Isopropyl Alcohol. \n",
    "\n",
    "This's probably caused by the fact that water have 1 more H-Bond compared to Isopropyl Alcohol. Water and Isopropyl Alcohol are both polar compounds as their molecular structures doesn't cancel out their dipole moments. Due to their polarity, both of the compounds allowed for the existence of H-Bond IMF, however, Water have 2 of them; while Isopropyl alcohol only have 1. Meaning that water molecules can stick to other molecules better, which contributed to the penny holding more water than isopropyl alcohol. "
   ]
  },
  {
   "cell_type": "markdown",
   "metadata": {},
   "source": [
    "#### Note: \n",
    "- To see more of the code/the ipynb file, please view github: https://github.com/Alvin-He/jupyter-notebooks/blob/main/Chem%20Honors/Liquid%20On%20Penny/liquidOnPenny.ipynb"
   ]
  },
  {
   "cell_type": "markdown",
   "metadata": {},
   "source": [
    "#### Biogeography  \n",
    "\n",
    "1. “Water Density Completed.” Water Density | U.S. Geological Survey, www.usgs.gov/special-topics/water-science-school/science/water-density. \n",
    "   \n",
    "2. “Isopropyl Alcohol Solvent Properties.” Isopropyl Alcohol Solvent Properties, https://macro.lsu.edu/HowTo/solvents/IPA.htm. "
   ]
  }
 ],
 "metadata": {
  "kernelspec": {
   "display_name": "Python 3.10.0 64-bit",
   "language": "python",
   "name": "python3"
  },
  "language_info": {
   "codemirror_mode": {
    "name": "ipython",
    "version": 3
   },
   "file_extension": ".py",
   "mimetype": "text/x-python",
   "name": "python",
   "nbconvert_exporter": "python",
   "pygments_lexer": "ipython3",
   "version": "3.10.0"
  },
  "orig_nbformat": 4,
  "vscode": {
   "interpreter": {
    "hash": "3196968d684371006099b3d55edeef8ed90365227a30deaef86e5d4aa8519be0"
   }
  }
 },
 "nbformat": 4,
 "nbformat_minor": 2
}
