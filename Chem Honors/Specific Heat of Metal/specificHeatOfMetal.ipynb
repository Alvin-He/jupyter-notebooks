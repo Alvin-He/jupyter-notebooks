{
 "cells": [
  {
   "attachments": {},
   "cell_type": "markdown",
   "metadata": {},
   "source": [
    "# Specific Heat Of Metal\n",
    "\n",
    "Alvin He \\\n",
    "03/08/2023 \\\n",
    "Chemistry Honors 1° "
   ]
  },
  {
   "attachments": {},
   "cell_type": "markdown",
   "metadata": {},
   "source": [
    "### Data:\n",
    "amount of metal: 50 grams   \n",
    "$T_{initial, metal}: 99.8 C$    \n",
    "$V_{H_2O}: 50 ml$\n",
    "\n",
    "|    | Copper |\n",
    "|----|----|\n",
    "|$T_{initial, H_2O}$| 22.1 C |\n",
    "|$T_{final}$| 26.0 C | \n",
    "\n",
    "### Specific Heat of metal(Copper):\n",
    "$$\\begin{align*}\n",
    "m_{H_2O} * C_{H_2O} * \\Delta T &= - m_{copper} * C_{copper} * \\Delta T \\\\\n",
    "C_{copper} &= - \\frac{m_{H_2O} * C_{H_2O} * \\Delta T}{m_{copper} * \\Delta T} \\\\\n",
    "&= - \\frac{50\\ ml\\ H_2O * \\frac{1 g\\ H_2O}{1\\ ml\\ H_2O} * \\frac{4.184 J}{g-K} * (22.1 C - 26.0 C)}{50 g\\ copper * (99.8 C - 26.0 C)} \\\\\n",
    "&= \\frac{0.2211 J}{g-K}\n",
    "\\end{align*}$$\n",
    "\n",
    "specific heat of copper used in this experiment is $\\frac{0.2211 J}{g-K}$"
   ]
  },
  {
   "attachments": {},
   "cell_type": "markdown",
   "metadata": {},
   "source": [
    "### Discussion \n",
    "1. describe the relationship between the final temperature as a function of the specific heat of a metal\n",
    "   - The final temperature forms an deceasing function with the specific heat of a metal in this system. As the final temperature increases, the $\\Delta T$ of water gets bigger, while the $\\Delta T$ of the metal gets smaller. As we are focusing on the specific heat of the metal, that means that the specific heat of the metal has to decrease, in order to equalize the equation. Meaning that as the final temperature increases, the specific heat of the metal decreases, forming an decreasing relationship.\n",
    "### NGSS Standards Met: \n",
    "1. Developing and Using Models\n",
    "   - We created/used a system for us to experimentally determine the specific heat of copper\n",
    "2. Using Mathematics and Computational Thinking\n",
    "   - We analyzed the data and calculated the specific heat of copper from the experimental results using equations and we determined the relationship between the final temperature and the specific heat of a metal through mathematical reasoning "
   ]
  },
  {
   "attachments": {},
   "cell_type": "markdown",
   "metadata": {},
   "source": [
    "#### Note: \n",
    "- To see more of the code/the ipynb file, please view github: https://github.com/Alvin-He/jupyter-notebooks/blob/main/Chem%20Honors/Specific%20Heat%20of%20Metal/specificHeatOfMetal.ipynb"
   ]
  }
 ],
 "metadata": {
  "language_info": {
   "name": "python"
  },
  "orig_nbformat": 4
 },
 "nbformat": 4,
 "nbformat_minor": 2
}
